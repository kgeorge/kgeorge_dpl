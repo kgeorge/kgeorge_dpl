{
 "cells": [
  {
   "cell_type": "code",
   "execution_count": null,
   "metadata": {
    "collapsed": true
   },
   "outputs": [],
   "source": [
    "__author__ = 'kgeorge2@gmail.com'"
   ]
  },
  {
   "cell_type": "markdown",
   "metadata": {},
   "source": [
    "# common notebook utils\n",
    "### koshy george, kgeorge2@gmail.com\n",
    "\n",
    "### In addition to [jupyter](http://jupyter.org/), you need to have [ipywidgets](https://github.com/ipython/ipywidgets) installed "
   ]
  },
  {
   "cell_type": "markdown",
   "metadata": {},
   "source": [
    "The contribution of this notebook are\n",
    "1. define a custom ipywidget called ProgrEssImageWidget\n",
    "2. define a handy Plotter class who can accepts samples in various channels and constuct a plot\n"
   ]
  },
  {
   "cell_type": "markdown",
   "metadata": {},
   "source": [
    "### ProgressImageWidget\n",
    "\n",
    "<code>ProgressImageWidget</code> will display any image assigned to its <code>value</code>, if the image is a [datauri](https://en.wikipedia.org/wiki/Data_URI_scheme) string. \n",
    "\n",
    "<code>\n",
    "p=common.utils.ProgressImageWidget()\n",
    "display(p)\n",
    "</code>\n",
    "\n",
    "\n",
    "..., lots of stuff\n",
    "\n",
    "\n",
    "Now if if you assign the value element of <code>p</code> to some new image content, the widget displayed by the display  call above, will now have the new image content.\n",
    "<code>\n",
    "p.value = new_image_content_as_png_dataurl\n",
    "</code>"
   ]
  },
  {
   "cell_type": "code",
   "execution_count": null,
   "metadata": {
    "collapsed": true
   },
   "outputs": [],
   "source": [
    "\n",
    "import ipywidgets as widgets\n",
    "from traitlets import Unicode, validate\n",
    "from IPython import display\n",
    "\n",
    "\n",
    "class ProgressImageWidget(widgets.DOMWidget):\n",
    "    \"\"\"\n",
    "      ipywidget class to display incremental progress of training as an image\n",
    "    \"\"\"\n",
    "    _view_name = Unicode('ProgressImageView').tag(sync=True)\n",
    "    _view_module = Unicode('progress_image').tag(sync=True)\n",
    "    value = Unicode().tag(sync=True)"
   ]
  },
  {
   "cell_type": "code",
   "execution_count": null,
   "metadata": {
    "collapsed": false
   },
   "outputs": [],
   "source": [
    "%%javascript\n",
    "require.undef('progress_image');\n",
    "\n",
    "define('progress_image', [\"jupyter-js-widgets\"], function(widgets) {\n",
    "\n",
    "    // Define the HelloView\n",
    "    var ProgressImageView = widgets.DOMWidgetView.extend({\n",
    "        // Render the view.\n",
    "        render: function() {\n",
    "            this.$img = $('<img />')\n",
    "                .appendTo(this.$el);\n",
    "        },\n",
    "        \n",
    "        update: function() {\n",
    "            this.$img.attr('src', this.model.get('value'));\n",
    "            return ProgressImageView.__super__.update.apply(this);\n",
    "        },\n",
    "        events: {\"change\": \"handle_value_change\"},\n",
    "        \n",
    "        handle_value_change: function(event) {\n",
    "            this.model.set('value', this.$img.src);\n",
    "            this.touch();\n",
    "        },\n",
    "        \n",
    "    });\n",
    "\n",
    "    return {\n",
    "        ProgressImageView : ProgressImageView \n",
    "    }\n",
    "});\n"
   ]
  },
  {
   "cell_type": "markdown",
   "metadata": {},
   "source": [
    "### Plotter\n",
    "\n",
    "Now for constructing the [datauri](https://en.wikipedia.org/wiki/Data_URI_scheme), which shows the progress graph, we employ another helper class called <code>Plotter</code> defined in <code>common/utils.ipynb</code>. We can construct a plotter with <code>xlabel, ylabel</code> and <code>title</code> parameters. An instance of a potter class, will return a png-datauri when the <code>plotter.plot()</code> is called.\n",
    "\n",
    "We can also add many channels to the plot. For each channel we must supply an upperboumd on the number of samples that will be added to the channel. See <code>Plotter.add_channel</code>. All the channels will be shown on the same plot.\n",
    "\n",
    "We should add as many samples to each channel as we please and if you call <code>plotter.plot()</code>, a pong datauri containing the plot will be returned."
   ]
  },
  {
   "cell_type": "code",
   "execution_count": null,
   "metadata": {
    "collapsed": true
   },
   "outputs": [],
   "source": [
    "import numpy as np\n",
    "import io, base64\n",
    "import os\n",
    "import matplotlib.pyplot as plt\n",
    "from matplotlib.font_manager import FontProperties\n",
    "\n",
    "\n",
    "\n",
    "class Plotter(object):\n",
    "    \"\"\"\n",
    "      A utility class to plot training/test data\n",
    "      add_channel: Add as many channels as you want\n",
    "      add_sample: Add as many samples to any channel\n",
    "      plot: will return a dataurl containing a single plot \n",
    "    \"\"\"\n",
    "    \n",
    "    format='PNG'\n",
    "    def __init__(self,  **kwds):\n",
    "        #need to have these keywords for initialization\n",
    "        assert(kwds.get('xlabel'))\n",
    "        assert(kwds.get('ylabel'))\n",
    "        assert(kwds.get('title'))\n",
    "        self.__dict__.update(kwds)\n",
    "        #initialize empty extents\n",
    "        self.extents=[np.inf, -np.inf, np.inf, -np.inf]\n",
    "        self.channels={}\n",
    "        pass\n",
    "    \n",
    "    #num_samples == upper bound on the number of samples that can be added for this channel    \n",
    "    def add_channel(self, num_samples=-1, **kwds):\n",
    "        assert(kwds.get('channel_name'))\n",
    "        assert(kwds.get('legend'))\n",
    "        channel = self.channels.setdefault(kwds['channel_name'], {})\n",
    "        channel['plot_x'] = np.zeros(num_samples, dtype=np.float32)\n",
    "        channel['plot_y'] = np.zeros_like( channel['plot_x']  )\n",
    "        channel['legend'] = kwds['legend']\n",
    "        channel['next_sample_index'] = 0\n",
    "    \n",
    "    #add a sample to a channel\n",
    "    def add_sample(self, x, y, channel_name=''):\n",
    "        assert(channel_name)\n",
    "        assert(self.channels.get(channel_name))\n",
    "        channel = self.channels[channel_name]\n",
    "        next_index = channel['next_sample_index']\n",
    "        channel['plot_x'][next_index] = x\n",
    "        channel['plot_y'][next_index] = y\n",
    "        channel['next_sample_index'] += 1\n",
    "        self.update_extents_(x, y)\n",
    "\n",
    "        \n",
    "    #internal routine to keep track of extents\n",
    "    def update_extents_(self, x, y):\n",
    "        self.extents[0 ] = 0 # min(x, self.extents[0])  \n",
    "        self.extents[1 ] = max(x, self.extents[1])  \n",
    "        self.extents[2 ] = 0 # min(y, self.extents[2])  \n",
    "        self.extents[3 ] = 1 # max(y, self.extents[3])  \n",
    "\n",
    "    def plot_core_(self):\n",
    "        fontP = FontProperties()\n",
    "        fontP.set_size('small')\n",
    "        fig = plt.figure()\n",
    "        ax = fig.add_subplot(1, 1, 1)\n",
    "        #plot each channel\n",
    "        for k,v in self.channels.iteritems():\n",
    "            next_sample_index = v['next_sample_index']\n",
    "            ax.plot(v['plot_x'][0:next_sample_index], v['plot_y'][0:next_sample_index], label=k)\n",
    "        plt.legend( loc='lower left', prop=fontP)\n",
    "        ax.set_title(self.title)\n",
    "        ax.set_xlabel(self.ylabel)\n",
    "        ax.set_xlabel(self.xlabel)\n",
    "        #return the plot as a dataurl\n",
    "        buf = io.BytesIO()    \n",
    "        fig.savefig(buf, format=Plotter.format)\n",
    "        buf.seek(0)\n",
    "        fig.clear()\n",
    "        plt.close(fig)\n",
    "        return buf\n",
    "    \n",
    "    #plot routune\n",
    "    def plot(self):\n",
    "        buf = self.plot_core_()\n",
    "        dataurl = \"data:image/\" + Plotter.format + \";base64,\" + base64.b64encode(buf.read())\n",
    "        return dataurl\n",
    "    \n",
    "    def plot_and_save_fig(self, savepath=''):\n",
    "        assert(savepath)\n",
    "        assert(os.path.splitext(savepath)[1].lower() == '.' + Plotter.format.lower())\n",
    "        buf = self.plot_core_()\n",
    "        with file(savepath, 'wb') as fp:\n",
    "            fp.write(buf.read())\n",
    "    \n",
    "        "
   ]
  },
  {
   "cell_type": "code",
   "execution_count": null,
   "metadata": {
    "collapsed": true
   },
   "outputs": [],
   "source": []
  },
  {
   "cell_type": "code",
   "execution_count": null,
   "metadata": {
    "collapsed": true
   },
   "outputs": [],
   "source": []
  }
 ],
 "metadata": {
  "kernelspec": {
   "display_name": "Python 2",
   "language": "python",
   "name": "python2"
  },
  "language_info": {
   "codemirror_mode": {
    "name": "ipython",
    "version": 2
   },
   "file_extension": ".py",
   "mimetype": "text/x-python",
   "name": "python",
   "nbconvert_exporter": "python",
   "pygments_lexer": "ipython2",
   "version": "2.7.12"
  }
 },
 "nbformat": 4,
 "nbformat_minor": 1
}
