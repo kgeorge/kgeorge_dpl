{
 "cells": [
  {
   "cell_type": "code",
   "execution_count": 1,
   "metadata": {
    "collapsed": false
   },
   "outputs": [
    {
     "name": "stdout",
     "output_type": "stream",
     "text": [
      "importing Jupyter notebook from common/utils.ipynb\n"
     ]
    },
    {
     "data": {
      "application/javascript": [
       "require.undef('progress_image');\n",
       "\n",
       "define('progress_image', [\"jupyter-js-widgets\"], function(widgets) {\n",
       "\n",
       "    // Define the HelloView\n",
       "    var ProgressImageView = widgets.DOMWidgetView.extend({\n",
       "        // Render the view.\n",
       "        render: function() {\n",
       "            this.$img = $('<img />')\n",
       "                .appendTo(this.$el);\n",
       "        },\n",
       "        \n",
       "        update: function() {\n",
       "            this.$img.attr('src', this.model.get('value'));\n",
       "            return ProgressImageView.__super__.update.apply(this);\n",
       "        },\n",
       "        events: {\"change\": \"handle_value_change\"},\n",
       "        \n",
       "        handle_value_change: function(event) {\n",
       "            this.model.set('value', this.$img.src);\n",
       "            this.touch();\n",
       "        },\n",
       "        \n",
       "    });\n",
       "\n",
       "    return {\n",
       "        ProgressImageView : ProgressImageView \n",
       "    }\n",
       "});"
      ],
      "text/plain": [
       "<IPython.core.display.Javascript object>"
      ]
     },
     "metadata": {},
     "output_type": "display_data"
    }
   ],
   "source": [
    "from inspect import getsourcefile\n",
    "import os.path\n",
    "import sys\n",
    "import time\n",
    "current_path = os.path.abspath(getsourcefile(lambda:0))\n",
    "parent_dir = os.path.split(os.path.dirname(current_path))[0]\n",
    "sys.path.insert(0, parent_dir)\n",
    "import common.load_notebooks\n",
    "import common.utils"
   ]
  },
  {
   "cell_type": "code",
   "execution_count": 2,
   "metadata": {
    "collapsed": false
   },
   "outputs": [
    {
     "name": "stdout",
     "output_type": "stream",
     "text": [
      "Extracting /tmp/data/train-images-idx3-ubyte.gz\n",
      "Extracting /tmp/data/train-labels-idx1-ubyte.gz\n",
      "Extracting /tmp/data/t10k-images-idx3-ubyte.gz\n",
      "Extracting /tmp/data/t10k-labels-idx1-ubyte.gz\n",
      "done\n"
     ]
    }
   ],
   "source": [
    "from __future__ import division, print_function, absolute_import\n",
    "\n",
    "import tensorflow as tf\n",
    "import numpy as np\n",
    "import matplotlib.pyplot as plt\n",
    "\n",
    "# Import MINST data\n",
    "from tensorflow.examples.tutorials.mnist import input_data\n",
    "mnist = input_data.read_data_sets(\"/tmp/data/\", one_hot=True)\n",
    "print('done')"
   ]
  },
  {
   "cell_type": "code",
   "execution_count": 3,
   "metadata": {
    "collapsed": false
   },
   "outputs": [],
   "source": [
    "\n",
    "n_input=784\n",
    "n_classes=10\n",
    "training_iters = 200000\n",
    "batchsize=128\n",
    "learning_rate = 0.001\n",
    "dropout = 0.75 \n",
    "display_step = 10\n",
    "x = tf.placeholder(tf.float32, [None, n_input])\n",
    "y = tf.placeholder(tf.float32, [None, n_classes])\n",
    "keep_prob = tf.placeholder(tf.float32)\n",
    "def wireup(x, weights, biases, keep_prob):\n",
    "    x = tf.reshape(x, shape=[-1, 28, 28, 1])\n",
    "    \n",
    "    c1 = tf.nn.conv2d(x, weights['c1'], strides=[1,1,1,1], padding='SAME')\n",
    "    c1 = tf.nn.bias_add(c1, biases['bc1'])\n",
    "    c1 = tf.nn.max_pool(c1, ksize=[1,2,2,1], strides=[1,2,2,1], padding='SAME')\n",
    "    \n",
    "    c2 = tf.nn.conv2d(c1, weights['c2'], strides=[1,1,1,1], padding='SAME')\n",
    "    c2 = tf.nn.bias_add(c2, biases['bc2'])\n",
    "    c2 = tf.nn.max_pool(c2, ksize=[1,2,2,1], strides=[1,2,2,1], padding='SAME')\n",
    "    \n",
    "    fc1 = tf.reshape(c2, [-1, weights['f1'].get_shape().as_list()[0]])\n",
    "    fc1 = tf.add(tf.matmul(fc1, weights['f1']), biases['bf1'])\n",
    "    fc1 = tf.nn.relu(fc1)\n",
    "    fc1 = tf.nn.dropout(fc1, keep_prob)\n",
    "    \n",
    "    out = tf.add(tf.matmul(fc1, weights['out']), biases['bout'])\n",
    "    return out\n",
    "\n",
    "\n",
    "    "
   ]
  },
  {
   "cell_type": "code",
   "execution_count": 4,
   "metadata": {
    "collapsed": false
   },
   "outputs": [],
   "source": [
    "\n",
    "# Initializing the variables\n",
    "weights = {\n",
    "    'c1' :  tf.Variable(tf.random_normal([5, 5, 1, 32])),\n",
    "    'c2' : tf.Variable(tf.random_normal([5, 5, 32, 64])),\n",
    "    'f1' : tf.Variable(tf.random_normal([7*7*64, 1024])),\n",
    "    'out' :  tf.Variable(tf.random_normal([1024, n_classes])),\n",
    "}\n",
    "\n",
    "biases = {\n",
    "    'bc1' : tf.Variable(tf.random_normal([32])),\n",
    "    'bc2' : tf.Variable(tf.random_normal([64])),\n",
    "    'bf1' : tf.Variable(tf.random_normal([1024])),\n",
    "    'bout' : tf.Variable(tf.random_normal([n_classes])),\n",
    "}\n",
    "pred = wireup(x, weights, biases, keep_prob)\n",
    "cost = tf.reduce_mean(tf.nn.softmax_cross_entropy_with_logits(pred, y))\n",
    "optimizer = tf.train.AdamOptimizer(learning_rate=learning_rate).minimize(cost)\n",
    "\n",
    "correct_pred = tf.equal(tf.argmax(pred, 1), tf.argmax(y, 1))\n",
    "accuracy = tf.reduce_mean(tf.cast(correct_pred, tf.float32))\n",
    "init = tf.initialize_all_variables()"
   ]
  },
  {
   "cell_type": "code",
   "execution_count": 5,
   "metadata": {
    "collapsed": false
   },
   "outputs": [
    {
     "name": "stdout",
     "output_type": "stream",
     "text": [
      "done\n"
     ]
    }
   ],
   "source": [
    "from IPython.display import display\n",
    "p=common.utils.ProgressImageWidget()\n",
    "display(p)\n",
    "with tf.Session() as sess:\n",
    "    sess.run(init)\n",
    "    step = 1\n",
    "    plotter = common.utils.Plotter(\n",
    "        xlabel='no. of iterations',\n",
    "        ylabel='accuracy',\n",
    "        title='iterations vs. accuracy')\n",
    "    plotter.add_channel(num_samples=int(np.floor(training_iters/(batchsize  * display_step))),\n",
    "                        channel_name='train',\n",
    "                        legend='train')\n",
    "    plotter.add_channel(num_samples=int(np.floor(training_iters/(batchsize  * display_step* 10))),\n",
    "                        channel_name='test',\n",
    "                        legend='test')\n",
    "    \n",
    "    while step*batchsize < training_iters:\n",
    "        batch_x, batch_y = mnist.train.next_batch(batchsize)\n",
    "        sess.run(optimizer, feed_dict={x:batch_x, y:batch_y, keep_prob:dropout})\n",
    "        if step % display_step == 0:\n",
    "            loss, acc = sess.run([cost, accuracy], feed_dict={x: batch_x,\n",
    "                                                              y: batch_y,\n",
    "                                                              keep_prob: 1.})\n",
    "            plotter.add_sample( step,  acc, channel_name='train')\n",
    "            if step % (display_step * 10) == 0:\n",
    "                plotter.add_sample( step,  acc * 0.8, channel_name='test')\n",
    "            p.value = plotter.plot()\n",
    "        step += 1\n",
    "    print('done')\n",
    "        "
   ]
  },
  {
   "cell_type": "code",
   "execution_count": null,
   "metadata": {
    "collapsed": true
   },
   "outputs": [],
   "source": []
  },
  {
   "cell_type": "code",
   "execution_count": null,
   "metadata": {
    "collapsed": true
   },
   "outputs": [],
   "source": []
  }
 ],
 "metadata": {
  "kernelspec": {
   "display_name": "Python 2",
   "language": "python",
   "name": "python2"
  },
  "language_info": {
   "codemirror_mode": {
    "name": "ipython",
    "version": 2
   },
   "file_extension": ".py",
   "mimetype": "text/x-python",
   "name": "python",
   "nbconvert_exporter": "python",
   "pygments_lexer": "ipython2",
   "version": "2.7.12"
  },
  "widgets": {
   "state": {
    "98e2f1e2a477498ba27c583e47c2d14b": {
     "views": [
      {
       "cell_index": 4
      }
     ]
    }
   },
   "version": "1.2.0"
  }
 },
 "nbformat": 4,
 "nbformat_minor": 1
}
